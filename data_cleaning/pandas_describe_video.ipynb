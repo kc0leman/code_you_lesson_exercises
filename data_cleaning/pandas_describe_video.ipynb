{
 "cells": [
  {
   "cell_type": "code",
   "execution_count": null,
   "id": "8276869f",
   "metadata": {},
   "outputs": [],
   "source": [
    "# Using the .describe() function in pandas     # calling the .describe() on your dataset will produce a series of descriptive statistics thar allow you to get to know your data better\n",
    "# # link to the .ipynb file 'https://github.com/Data-Indepedent/pandas_everything/blob/master/pandas_functions/Pandas_Describe.ipynb'\n",
    "\n",
    "# load pandas\n",
    "import pandas as pd"
   ]
  },
  {
   "cell_type": "code",
   "execution_count": null,
   "id": "33366239",
   "metadata": {},
   "outputs": [],
   "source": [
    "# load dataset\n",
    "url = 'https://raw.githubusercontent.com/Data-Indepedent/pandas_everything/refs/heads/master/data/Street_Tree_List.csv'\n",
    "\n",
    "# In pandas, \"parsing\" refers to the process of interpreting and converting raw data from various sources (like CSV files, Excel spreadsheets, JSON, or even strings) into a structured format that pandas can work with, primarily DataFrames and Series. \n",
    "# here you are parsing one of the dates which is turning a column into a date\n",
    "df = pd.read_csv(url, parse_dates=['PlantDate']) \n",
    "\n",
    "# only selecting a subset of columns\n",
    "df = df[['TreeID', 'qSpecies', 'PlantDate', 'DBH']]\n",
    "\n",
    "# renaming a column\n",
    "df.rename(mapper={'DBH':\"tree_depth\"}, axis=1, inplace=True)\n",
    "\n",
    "df.head(10)"
   ]
  },
  {
   "cell_type": "code",
   "execution_count": null,
   "id": "913712f1",
   "metadata": {},
   "outputs": [],
   "source": [
    "# defaul describe     # by default, .describe() will tell us a seroes pf descriptive statistics\n",
    "df.describe()"
   ]
  },
  {
   "cell_type": "code",
   "execution_count": null,
   "id": "c46ad9c7",
   "metadata": {},
   "outputs": [],
   "source": [
    "# includinging all columns via 'include'     # if you want to include all columns in describe, then set include='all\n",
    "df.describe(include='all')"
   ]
  },
  {
   "cell_type": "code",
   "execution_count": null,
   "id": "8bc38327",
   "metadata": {},
   "outputs": [],
   "source": [
    "# treating datetimes like numbers via datetime_is_numeric=True     # here you are calling .describe() on a Series\n",
    "# in this example we are calling .describe() on our \"PlantDate\" column to see the difference between treating dates like objects and treating them like numbers\n",
    "df['PlantDate'].describe()\n"
   ]
  },
  {
   "cell_type": "code",
   "execution_count": null,
   "id": "e77a39cd",
   "metadata": {},
   "outputs": [],
   "source": [
    "# 'datetime_is_numeric' is a very helpful parameter in pandas\n",
    "# this will treat our dates like numbers\n",
    "df['PlantDate'].describe(datetime_is_numeric=True)"
   ]
  },
  {
   "cell_type": "code",
   "execution_count": null,
   "id": "7fd6b32b",
   "metadata": {},
   "outputs": [],
   "source": [
    "# The .describe() method gives you a quick statistical summary of all numeric columns in your DataFrame.\n",
    "\n",
    "# This will show:\n",
    "# # count: How many non-null values there are\n",
    "# # mean: The average value\n",
    "# # std: The standard deviation (you can ignore this for now!)\n",
    "# # min and max: The smallest and largest values\n",
    "# # 25%, 50%, 75%: The 25th, 50th (median), and 75th percentiles\n",
    "\n",
    "# It’s a fast way to check for things like:\n",
    "# # Missing or unusual values (e.g., a minimum age of 0)\n",
    "# # Ranges that are wider or narrower than you expected\n",
    "# # Columns where the average doesn’t match your assumptions\n"
   ]
  },
  {
   "cell_type": "code",
   "execution_count": null,
   "id": "4ec6928b",
   "metadata": {},
   "outputs": [],
   "source": [
    "# .value_counts() is made for categories — like gender, class, port of embarkation, or anything stored as text\n",
    "# This shows:\n",
    "# # The unique values in that column\n",
    "# # How many times each one appears\n",
    "# # By default, it sorts from most frequent to least frequent, but you can change that if you want: df['Embarked'].value_counts(ascending=True)\\\n",
    "\n",
    "# This is super useful for:\n",
    "# # Checking class imbalance (e.g., way more men than women)\n",
    "# # Finding typos (e.g., \"Yes\" vs \"yes\" vs \"y\")\n",
    "# # Seeing how evenly a feature is distributed"
   ]
  },
  {
   "cell_type": "code",
   "execution_count": null,
   "id": "5c109afa",
   "metadata": {},
   "outputs": [],
   "source": [
    "# You can also directly get specific stats on a single column:\n",
    "# Example:\n",
    "# # df['Age'].mean()       # Average age\n",
    "# # df['Age'].median()     # Middle value\n",
    "# # df['Age'].min()        # Youngest passenger\n",
    "# # df['Age'].max()        # Oldest passenger\n",
    "# # df['Age'].nunique()    # Number of unique ages\n",
    "# # df['Embarked'].nunique()  # Number of unique embarkation ports\n",
    "\n",
    "# These functions — like .mean(), .max(), and .nunique() — are called aggregation functions because they summarize or condense data. \n",
    "# You’ll see them pop up again soon when we use .groupby() to calculate these stats across categories. For now, just keep in mind that these are part of your core data analysis toolkit."
   ]
  },
  {
   "cell_type": "code",
   "execution_count": null,
   "id": "e7cbea9f",
   "metadata": {},
   "outputs": [],
   "source": [
    "# how to verify pandas version\n",
    "\n",
    "# import pandas as pd\n",
    "# print(\"Pandas version:\", pd.__version__)\n",
    "# help(pd.Series.describe)\n",
    "\n",
    "# import pandas as pd\n",
    "# print(\"Pandas version:\", pd.__version__)\n",
    "\n",
    "# import sys\n",
    "# print(\"Python executable:\", sys.executable)\n",
    "\n",
    "# import site\n",
    "# print(\"Site-packages:\", site.getsitepackages())\n",
    "\n",
    "# import pandas as pd\n",
    "# print(pd.__version__)"
   ]
  }
 ],
 "metadata": {
  "kernelspec": {
   "display_name": "Python 3",
   "language": "python",
   "name": "python3"
  },
  "language_info": {
   "codemirror_mode": {
    "name": "ipython",
    "version": 3
   },
   "file_extension": ".py",
   "mimetype": "text/x-python",
   "name": "python",
   "nbconvert_exporter": "python",
   "pygments_lexer": "ipython3",
   "version": "3.13.5"
  }
 },
 "nbformat": 4,
 "nbformat_minor": 5
}
