{
 "cells": [
  {
   "cell_type": "code",
   "execution_count": 102,
   "id": "bef43a24",
   "metadata": {},
   "outputs": [],
   "source": [
    "import pandas as pd"
   ]
  },
  {
   "cell_type": "code",
   "execution_count": 103,
   "id": "96c88fa5",
   "metadata": {},
   "outputs": [],
   "source": [
    "# Load Titanic dataset directly from GitHub\n",
    "url = 'https://raw.githubusercontent.com/datasciencedojo/datasets/master/titanic.csv'\n",
    "df = pd.read_csv(url)"
   ]
  },
  {
   "cell_type": "code",
   "execution_count": 104,
   "id": "150389d7",
   "metadata": {},
   "outputs": [
    {
     "name": "stdout",
     "output_type": "stream",
     "text": [
      "   PassengerId  Survived  Pclass  \\\n",
      "0            1         0       3   \n",
      "1            2         1       1   \n",
      "2            3         1       3   \n",
      "3            4         1       1   \n",
      "4            5         0       3   \n",
      "\n",
      "                                                Name     Sex   Age  SibSp  \\\n",
      "0                            Braund, Mr. Owen Harris    male  22.0      1   \n",
      "1  Cumings, Mrs. John Bradley (Florence Briggs Th...  female  38.0      1   \n",
      "2                             Heikkinen, Miss. Laina  female  26.0      0   \n",
      "3       Futrelle, Mrs. Jacques Heath (Lily May Peel)  female  35.0      1   \n",
      "4                           Allen, Mr. William Henry    male  35.0      0   \n",
      "\n",
      "   Parch            Ticket     Fare Cabin Embarked  \n",
      "0      0         A/5 21171   7.2500   NaN        S  \n",
      "1      0          PC 17599  71.2833   C85        C  \n",
      "2      0  STON/O2. 3101282   7.9250   NaN        S  \n",
      "3      0            113803  53.1000  C123        S  \n",
      "4      0            373450   8.0500   NaN        S  \n"
     ]
    }
   ],
   "source": [
    "print(df.head())"
   ]
  },
  {
   "cell_type": "code",
   "execution_count": 105,
   "id": "25560016",
   "metadata": {},
   "outputs": [
    {
     "name": "stdout",
     "output_type": "stream",
     "text": [
      "Name    Saundercock, Mr. William Henry\n",
      "Age                               20.0\n",
      "Name: 12, dtype: object\n"
     ]
    }
   ],
   "source": [
    "print(df.loc [12, ['Name', 'Age']])"
   ]
  },
  {
   "cell_type": "code",
   "execution_count": 106,
   "id": "ab9dc48d",
   "metadata": {},
   "outputs": [
    {
     "name": "stdout",
     "output_type": "stream",
     "text": [
      "   PassengerId  Survived  Pclass\n",
      "0            1         0       3\n",
      "1            2         1       1\n",
      "2            3         1       3\n",
      "3            4         1       1\n",
      "4            5         0       3\n"
     ]
    }
   ],
   "source": [
    "print(df.iloc[0:5, 0:3])"
   ]
  },
  {
   "cell_type": "code",
   "execution_count": 107,
   "id": "2a98358f",
   "metadata": {},
   "outputs": [
    {
     "name": "stdout",
     "output_type": "stream",
     "text": [
      "     PassengerId  Survived  Pclass  \\\n",
      "1              2         1       1   \n",
      "3              4         1       1   \n",
      "11            12         1       1   \n",
      "31            32         1       1   \n",
      "52            53         1       1   \n",
      "..           ...       ...     ...   \n",
      "856          857         1       1   \n",
      "862          863         1       1   \n",
      "871          872         1       1   \n",
      "879          880         1       1   \n",
      "887          888         1       1   \n",
      "\n",
      "                                                  Name     Sex   Age  SibSp  \\\n",
      "1    Cumings, Mrs. John Bradley (Florence Briggs Th...  female  38.0      1   \n",
      "3         Futrelle, Mrs. Jacques Heath (Lily May Peel)  female  35.0      1   \n",
      "11                            Bonnell, Miss. Elizabeth  female  58.0      0   \n",
      "31      Spencer, Mrs. William Augustus (Marie Eugenie)  female   NaN      1   \n",
      "52            Harper, Mrs. Henry Sleeper (Myna Haxtun)  female  49.0      1   \n",
      "..                                                 ...     ...   ...    ...   \n",
      "856         Wick, Mrs. George Dennick (Mary Hitchcock)  female  45.0      1   \n",
      "862  Swift, Mrs. Frederick Joel (Margaret Welles Ba...  female  48.0      0   \n",
      "871   Beckwith, Mrs. Richard Leonard (Sallie Monypeny)  female  47.0      1   \n",
      "879      Potter, Mrs. Thomas Jr (Lily Alexenia Wilson)  female  56.0      0   \n",
      "887                       Graham, Miss. Margaret Edith  female  19.0      0   \n",
      "\n",
      "     Parch    Ticket      Fare Cabin Embarked  \n",
      "1        0  PC 17599   71.2833   C85        C  \n",
      "3        0    113803   53.1000  C123        S  \n",
      "11       0    113783   26.5500  C103        S  \n",
      "31       0  PC 17569  146.5208   B78        C  \n",
      "52       0  PC 17572   76.7292   D33        C  \n",
      "..     ...       ...       ...   ...      ...  \n",
      "856      1     36928  164.8667   NaN        S  \n",
      "862      0     17466   25.9292   D17        S  \n",
      "871      1     11751   52.5542   D35        S  \n",
      "879      1     11767   83.1583   C50        C  \n",
      "887      0    112053   30.0000   B42        S  \n",
      "\n",
      "[94 rows x 12 columns]\n"
     ]
    }
   ],
   "source": [
    "print(df.loc[(df[\"Pclass\"] == 1) & (df[\"Sex\"] == \"female\")])"
   ]
  },
  {
   "cell_type": "code",
   "execution_count": 108,
   "id": "c784f835",
   "metadata": {},
   "outputs": [
    {
     "name": "stdout",
     "output_type": "stream",
     "text": [
      "14.0\n"
     ]
    }
   ],
   "source": [
    "print(df.iloc[9, 5])"
   ]
  },
  {
   "cell_type": "code",
   "execution_count": 109,
   "id": "11be1946",
   "metadata": {},
   "outputs": [
    {
     "name": "stdout",
     "output_type": "stream",
     "text": [
      "        Fare  Survived\n",
      "100   7.8958         0\n",
      "101   7.8958         0\n",
      "102  77.2875         0\n",
      "103   8.6542         0\n",
      "104   7.9250         0\n",
      "105   7.8958         0\n"
     ]
    }
   ],
   "source": [
    "print(df.loc[100:105, [\"Fare\", \"Survived\"]])"
   ]
  }
 ],
 "metadata": {
  "kernelspec": {
   "display_name": "Python 3",
   "language": "python",
   "name": "python3"
  },
  "language_info": {
   "codemirror_mode": {
    "name": "ipython",
    "version": 3
   },
   "file_extension": ".py",
   "mimetype": "text/x-python",
   "name": "python",
   "nbconvert_exporter": "python",
   "pygments_lexer": "ipython3",
   "version": "3.13.5"
  }
 },
 "nbformat": 4,
 "nbformat_minor": 5
}
